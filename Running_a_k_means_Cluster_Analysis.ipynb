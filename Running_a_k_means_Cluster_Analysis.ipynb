{
  "nbformat": 4,
  "nbformat_minor": 0,
  "metadata": {
    "colab": {
      "name": "Running a k-means Cluster Analysis.ipynb",
      "provenance": []
    },
    "kernelspec": {
      "name": "python3",
      "display_name": "Python 3"
    }
  },
  "cells": [
    {
      "cell_type": "code",
      "metadata": {
        "id": "OmlY-jsf-S8j",
        "outputId": "03288b17-c59c-4ab7-ca22-e846dba46cf4",
        "colab": {
          "base_uri": "https://localhost:8080/"
        }
      },
      "source": [
        "import pandas as pd\n",
        "import numpy as np\n",
        "import matplotlib.pyplot as plt\n",
        "import statsmodels.formula.api as smf\n",
        "import statsmodels.stats.multicomp as multi\n",
        "from sklearn.model_selection import train_test_split\n",
        "from sklearn import preprocessing\n",
        "from sklearn.cluster import KMeans\n",
        "\n",
        "data = pd.read_csv('/content/gapminder.csv', low_memory=False)\n",
        " \n",
        "data['internetuserate'] = pd.to_numeric(data['internetuserate'], errors='coerce')\n",
        "data['incomeperperson'] = pd.to_numeric(data['incomeperperson'], errors='coerce')\n",
        "data['employrate'] = pd.to_numeric(data['employrate'], errors='coerce')\n",
        "data['femaleemployrate'] = pd.to_numeric(data['femaleemployrate'], errors='coerce')\n",
        "data['polityscore'] = pd.to_numeric(data['polityscore'], errors='coerce')\n",
        "data['alcconsumption'] = pd.to_numeric(data['alcconsumption'], errors='coerce')\n",
        "data['lifeexpectancy'] = pd.to_numeric(data['lifeexpectancy'], errors='coerce')\n",
        "data['urbanrate'] = pd.to_numeric(data['urbanrate'], errors='coerce')\n",
        " \n",
        "sub1 = data.copy()\n",
        "\n",
        "data_clean = sub1.dropna()"
      ],
      "execution_count": 39,
      "outputs": [
        {
          "output_type": "stream",
          "text": [
            "/usr/local/lib/python3.6/dist-packages/statsmodels/tools/_testing.py:19: FutureWarning: pandas.util.testing is deprecated. Use the functions in the public API at pandas.testing instead.\n",
            "  import pandas.util.testing as tm\n"
          ],
          "name": "stderr"
        }
      ]
    },
    {
      "cell_type": "code",
      "metadata": {
        "id": "kTKxUsjl-fcA",
        "outputId": "5cebfaf9-10f3-4916-da33-cd59d82826ac",
        "colab": {
          "base_uri": "https://localhost:8080/",
          "height": 274
        }
      },
      "source": [
        "cluster = data_clean[['incomeperperson','employrate','femaleemployrate','polityscore',\n",
        "                      'alcconsumption', 'lifeexpectancy', 'urbanrate']]\n",
        "cluster.describe()"
      ],
      "execution_count": 40,
      "outputs": [
        {
          "output_type": "execute_result",
          "data": {
            "text/html": [
              "<div>\n",
              "<style scoped>\n",
              "    .dataframe tbody tr th:only-of-type {\n",
              "        vertical-align: middle;\n",
              "    }\n",
              "\n",
              "    .dataframe tbody tr th {\n",
              "        vertical-align: top;\n",
              "    }\n",
              "\n",
              "    .dataframe thead th {\n",
              "        text-align: right;\n",
              "    }\n",
              "</style>\n",
              "<table border=\"1\" class=\"dataframe\">\n",
              "  <thead>\n",
              "    <tr style=\"text-align: right;\">\n",
              "      <th></th>\n",
              "      <th>incomeperperson</th>\n",
              "      <th>employrate</th>\n",
              "      <th>femaleemployrate</th>\n",
              "      <th>polityscore</th>\n",
              "      <th>alcconsumption</th>\n",
              "      <th>lifeexpectancy</th>\n",
              "      <th>urbanrate</th>\n",
              "    </tr>\n",
              "  </thead>\n",
              "  <tbody>\n",
              "    <tr>\n",
              "      <th>count</th>\n",
              "      <td>150.000000</td>\n",
              "      <td>150.000000</td>\n",
              "      <td>150.000000</td>\n",
              "      <td>150.000000</td>\n",
              "      <td>150.000000</td>\n",
              "      <td>150.000000</td>\n",
              "      <td>150.000000</td>\n",
              "    </tr>\n",
              "    <tr>\n",
              "      <th>mean</th>\n",
              "      <td>6790.695858</td>\n",
              "      <td>59.261333</td>\n",
              "      <td>48.100667</td>\n",
              "      <td>3.893333</td>\n",
              "      <td>6.821733</td>\n",
              "      <td>68.981987</td>\n",
              "      <td>55.073200</td>\n",
              "    </tr>\n",
              "    <tr>\n",
              "      <th>std</th>\n",
              "      <td>9861.868327</td>\n",
              "      <td>10.380465</td>\n",
              "      <td>14.780999</td>\n",
              "      <td>6.248916</td>\n",
              "      <td>5.121911</td>\n",
              "      <td>9.908796</td>\n",
              "      <td>22.558074</td>\n",
              "    </tr>\n",
              "    <tr>\n",
              "      <th>min</th>\n",
              "      <td>103.775857</td>\n",
              "      <td>34.900002</td>\n",
              "      <td>12.400000</td>\n",
              "      <td>-10.000000</td>\n",
              "      <td>0.050000</td>\n",
              "      <td>48.132000</td>\n",
              "      <td>10.400000</td>\n",
              "    </tr>\n",
              "    <tr>\n",
              "      <th>25%</th>\n",
              "      <td>592.269592</td>\n",
              "      <td>52.199999</td>\n",
              "      <td>39.599998</td>\n",
              "      <td>-1.750000</td>\n",
              "      <td>2.562500</td>\n",
              "      <td>62.467500</td>\n",
              "      <td>36.415000</td>\n",
              "    </tr>\n",
              "    <tr>\n",
              "      <th>50%</th>\n",
              "      <td>2231.334854</td>\n",
              "      <td>58.900002</td>\n",
              "      <td>48.549999</td>\n",
              "      <td>7.000000</td>\n",
              "      <td>6.000000</td>\n",
              "      <td>72.558500</td>\n",
              "      <td>57.230000</td>\n",
              "    </tr>\n",
              "    <tr>\n",
              "      <th>75%</th>\n",
              "      <td>7222.637721</td>\n",
              "      <td>65.000000</td>\n",
              "      <td>55.725000</td>\n",
              "      <td>9.000000</td>\n",
              "      <td>10.057500</td>\n",
              "      <td>76.069750</td>\n",
              "      <td>71.565000</td>\n",
              "    </tr>\n",
              "    <tr>\n",
              "      <th>max</th>\n",
              "      <td>39972.352770</td>\n",
              "      <td>83.199997</td>\n",
              "      <td>83.300003</td>\n",
              "      <td>10.000000</td>\n",
              "      <td>23.010000</td>\n",
              "      <td>83.394000</td>\n",
              "      <td>100.000000</td>\n",
              "    </tr>\n",
              "  </tbody>\n",
              "</table>\n",
              "</div>"
            ],
            "text/plain": [
              "       incomeperperson  employrate  ...  lifeexpectancy   urbanrate\n",
              "count       150.000000  150.000000  ...      150.000000  150.000000\n",
              "mean       6790.695858   59.261333  ...       68.981987   55.073200\n",
              "std        9861.868327   10.380465  ...        9.908796   22.558074\n",
              "min         103.775857   34.900002  ...       48.132000   10.400000\n",
              "25%         592.269592   52.199999  ...       62.467500   36.415000\n",
              "50%        2231.334854   58.900002  ...       72.558500   57.230000\n",
              "75%        7222.637721   65.000000  ...       76.069750   71.565000\n",
              "max       39972.352770   83.199997  ...       83.394000  100.000000\n",
              "\n",
              "[8 rows x 7 columns]"
            ]
          },
          "metadata": {
            "tags": []
          },
          "execution_count": 40
        }
      ]
    },
    {
      "cell_type": "code",
      "metadata": {
        "id": "j2suM9Vk-iyq"
      },
      "source": [
        "clustervar=cluster.copy()\n",
        "clustervar['incomeperperson']=preprocessing.scale(clustervar['incomeperperson'].astype('float64'))\n",
        "clustervar['employrate']=preprocessing.scale(clustervar['employrate'].astype('float64'))\n",
        "clustervar['femaleemployrate']=preprocessing.scale(clustervar['femaleemployrate'].astype('float64'))\n",
        "clustervar['polityscore']=preprocessing.scale(clustervar['polityscore'].astype('float64'))\n",
        "clustervar['alcconsumption']=preprocessing.scale(clustervar['alcconsumption'].astype('float64'))\n",
        "clustervar['lifeexpectancy']=preprocessing.scale(clustervar['lifeexpectancy'].astype('float64'))\n",
        "clustervar['urbanrate']=preprocessing.scale(clustervar['urbanrate'].astype('float64'))"
      ],
      "execution_count": 41,
      "outputs": []
    },
    {
      "cell_type": "code",
      "metadata": {
        "id": "kjZcfxVz-lNx"
      },
      "source": [
        "clus_train, clus_test = train_test_split(clustervar, test_size=.3, random_state=123)"
      ],
      "execution_count": 42,
      "outputs": []
    },
    {
      "cell_type": "code",
      "metadata": {
        "id": "Js7rcNKZ-ne6"
      },
      "source": [
        "from scipy.spatial.distance import cdist\n",
        "clusters = range(1,10)\n",
        "meandist = []\n",
        "\n",
        "for k in clusters:\n",
        "    model = KMeans(n_clusters = k)\n",
        "    model.fit(clus_train)\n",
        "    clusassign = model.predict(clus_train)\n",
        "    meandist.append(sum(np.min(cdist(clus_train, model.cluster_centers_, 'euclidean'), axis=1)) \n",
        "    / clus_train.shape[0])"
      ],
      "execution_count": 43,
      "outputs": []
    },
    {
      "cell_type": "code",
      "metadata": {
        "id": "6DeoIaSU-pqb",
        "outputId": "0d24c4c0-1b5b-4302-c38f-6400af8ac71d",
        "colab": {
          "base_uri": "https://localhost:8080/",
          "height": 295
        }
      },
      "source": [
        "plt.plot(clusters, meandist)\n",
        "plt.xlabel('Number of clusters')\n",
        "plt.ylabel('Average distance')\n",
        "plt.title('Selecting k with the Elbow Method')\n",
        "plt.show()"
      ],
      "execution_count": 44,
      "outputs": [
        {
          "output_type": "display_data",
          "data": {
            "image/png": "[encoded data removed]",
            "text/plain": [
              "<Figure size 432x288 with 1 Axes>"
            ]
          },
          "metadata": {
            "tags": [],
            "needs_background": "light"
          }
        }
      ]
    },
    {
      "cell_type": "code",
      "metadata": {
        "id": "YUpg6t1P-tMN"
      },
      "source": [
        "model3 = KMeans(n_clusters=4)\n",
        "model3.fit(clus_train)\n",
        "clusassign = model3.predict(clus_train)"
      ],
      "execution_count": 45,
      "outputs": []
    },
    {
      "cell_type": "code",
      "metadata": {
        "id": "izn-xJp4-vrk",
        "outputId": "853e0322-caa3-46e4-ae44-d2a7b3608e86",
        "colab": {
          "base_uri": "https://localhost:8080/",
          "height": 295
        }
      },
      "source": [
        "from sklearn.decomposition import PCA\n",
        "pca_2 = PCA(2)\n",
        "plt.figure()\n",
        "plot_columns = pca_2.fit_transform(clus_train)\n",
        "plt.scatter(x=plot_columns[:,0], y=plot_columns[:,1], c=model3.labels_,)\n",
        "plt.xlabel('Canonical variable 1')\n",
        "plt.ylabel('Canonical variable 2')\n",
        "plt.title('Scatterplot of Canonical Variables for 4 Clusters')\n",
        "plt.show()"
      ],
      "execution_count": 46,
      "outputs": [
        {
          "output_type": "display_data",
          "data": {
            "image/png": "[encoded data removed]",
            "text/plain": [
              "<Figure size 432x288 with 1 Axes>"
            ]
          },
          "metadata": {
            "tags": [],
            "needs_background": "light"
          }
        }
      ]
    },
    {
      "cell_type": "code",
      "metadata": {
        "id": "0yzbpbpg-1Ob"
      },
      "source": [
        "clus_train.reset_index(level=0, inplace=True)"
      ],
      "execution_count": 47,
      "outputs": []
    },
    {
      "cell_type": "code",
      "metadata": {
        "id": "Y5wmFRWX-4jD"
      },
      "source": [
        "cluslist = list(clus_train['index'])"
      ],
      "execution_count": 48,
      "outputs": []
    },
    {
      "cell_type": "code",
      "metadata": {
        "id": "O9Ws3OWh-6zv"
      },
      "source": [
        "labels = list(model3.labels_)"
      ],
      "execution_count": 49,
      "outputs": []
    },
    {
      "cell_type": "code",
      "metadata": {
        "id": "3orfZhBm-9TM",
        "outputId": "62251374-804e-40fc-f72c-ffc96d7ce4de",
        "colab": {
          "base_uri": "https://localhost:8080/"
        }
      },
      "source": [
        "newlist = dict(zip(cluslist, labels))\n",
        "print (newlist)"
      ],
      "execution_count": 50,
      "outputs": [
        {
          "output_type": "stream",
          "text": [
            "{159: 0, 196: 3, 70: 2, 29: 2, 53: 0, 153: 0, 35: 2, 14: 2, 116: 0, 126: 0, 123: 0, 106: 2, 142: 0, 89: 3, 160: 2, 56: 0, 180: 0, 133: 0, 31: 2, 17: 1, 145: 3, 100: 1, 178: 0, 173: 1, 59: 0, 68: 0, 108: 3, 212: 2, 19: 2, 188: 2, 78: 2, 67: 2, 37: 0, 186: 3, 208: 2, 58: 2, 2: 3, 95: 3, 72: 0, 141: 2, 22: 2, 10: 1, 107: 2, 38: 2, 94: 1, 200: 0, 42: 2, 151: 0, 24: 0, 28: 2, 104: 0, 32: 1, 16: 0, 80: 0, 150: 0, 102: 2, 88: 3, 93: 0, 6: 1, 55: 3, 103: 2, 194: 0, 47: 3, 39: 0, 131: 2, 115: 2, 136: 1, 144: 1, 69: 1, 128: 0, 140: 0, 148: 0, 11: 0, 64: 1, 84: 0, 175: 0, 197: 2, 183: 2, 210: 3, 54: 0, 114: 2, 4: 2, 91: 1, 77: 0, 66: 0, 92: 1, 201: 3, 105: 3, 205: 2, 154: 0, 45: 2, 97: 2, 63: 1, 211: 2, 158: 0, 135: 2, 79: 2, 179: 1, 149: 2, 113: 0, 27: 0, 139: 1, 90: 1, 184: 1, 152: 0}\n"
          ],
          "name": "stdout"
        }
      ]
    },
    {
      "cell_type": "code",
      "metadata": {
        "id": "xoyB3qFK-_k5",
        "outputId": "906be389-1a9c-478f-8f81-8032fc9352d2",
        "colab": {
          "base_uri": "https://localhost:8080/",
          "height": 388
        }
      },
      "source": [
        "newclus = pd.DataFrame.from_dict(newlist, orient='index')\n",
        "newclus"
      ],
      "execution_count": 51,
      "outputs": [
        {
          "output_type": "execute_result",
          "data": {
            "text/html": [
              "<div>\n",
              "<style scoped>\n",
              "    .dataframe tbody tr th:only-of-type {\n",
              "        vertical-align: middle;\n",
              "    }\n",
              "\n",
              "    .dataframe tbody tr th {\n",
              "        vertical-align: top;\n",
              "    }\n",
              "\n",
              "    .dataframe thead th {\n",
              "        text-align: right;\n",
              "    }\n",
              "</style>\n",
              "<table border=\"1\" class=\"dataframe\">\n",
              "  <thead>\n",
              "    <tr style=\"text-align: right;\">\n",
              "      <th></th>\n",
              "      <th>0</th>\n",
              "    </tr>\n",
              "  </thead>\n",
              "  <tbody>\n",
              "    <tr>\n",
              "      <th>159</th>\n",
              "      <td>0</td>\n",
              "    </tr>\n",
              "    <tr>\n",
              "      <th>196</th>\n",
              "      <td>3</td>\n",
              "    </tr>\n",
              "    <tr>\n",
              "      <th>70</th>\n",
              "      <td>2</td>\n",
              "    </tr>\n",
              "    <tr>\n",
              "      <th>29</th>\n",
              "      <td>2</td>\n",
              "    </tr>\n",
              "    <tr>\n",
              "      <th>53</th>\n",
              "      <td>0</td>\n",
              "    </tr>\n",
              "    <tr>\n",
              "      <th>...</th>\n",
              "      <td>...</td>\n",
              "    </tr>\n",
              "    <tr>\n",
              "      <th>27</th>\n",
              "      <td>0</td>\n",
              "    </tr>\n",
              "    <tr>\n",
              "      <th>139</th>\n",
              "      <td>1</td>\n",
              "    </tr>\n",
              "    <tr>\n",
              "      <th>90</th>\n",
              "      <td>1</td>\n",
              "    </tr>\n",
              "    <tr>\n",
              "      <th>184</th>\n",
              "      <td>1</td>\n",
              "    </tr>\n",
              "    <tr>\n",
              "      <th>152</th>\n",
              "      <td>0</td>\n",
              "    </tr>\n",
              "  </tbody>\n",
              "</table>\n",
              "<p>105 rows × 1 columns</p>\n",
              "</div>"
            ],
            "text/plain": [
              "     0\n",
              "159  0\n",
              "196  3\n",
              "70   2\n",
              "29   2\n",
              "53   0\n",
              "..  ..\n",
              "27   0\n",
              "139  1\n",
              "90   1\n",
              "184  1\n",
              "152  0\n",
              "\n",
              "[105 rows x 1 columns]"
            ]
          },
          "metadata": {
            "tags": []
          },
          "execution_count": 51
        }
      ]
    },
    {
      "cell_type": "code",
      "metadata": {
        "id": "-g9rugkE_CzR"
      },
      "source": [
        "newclus.columns = ['cluster']"
      ],
      "execution_count": 52,
      "outputs": []
    },
    {
      "cell_type": "code",
      "metadata": {
        "id": "3k5CnHkz_Fls"
      },
      "source": [
        "newclus.reset_index(level=0, inplace=True)"
      ],
      "execution_count": 53,
      "outputs": []
    },
    {
      "cell_type": "code",
      "metadata": {
        "id": "0mxorDZl_IH9",
        "outputId": "a6c96b3a-b771-48b0-eb32-b1db0a1cf738",
        "colab": {
          "base_uri": "https://localhost:8080/",
          "height": 388
        }
      },
      "source": [
        "merged_train = pd.merge(clus_train, newclus, on='index')\n",
        "merged_train.head(n=100)"
      ],
      "execution_count": 54,
      "outputs": [
        {
          "output_type": "execute_result",
          "data": {
            "text/html": [
              "<div>\n",
              "<style scoped>\n",
              "    .dataframe tbody tr th:only-of-type {\n",
              "        vertical-align: middle;\n",
              "    }\n",
              "\n",
              "    .dataframe tbody tr th {\n",
              "        vertical-align: top;\n",
              "    }\n",
              "\n",
              "    .dataframe thead th {\n",
              "        text-align: right;\n",
              "    }\n",
              "</style>\n",
              "<table border=\"1\" class=\"dataframe\">\n",
              "  <thead>\n",
              "    <tr style=\"text-align: right;\">\n",
              "      <th></th>\n",
              "      <th>index</th>\n",
              "      <th>incomeperperson</th>\n",
              "      <th>employrate</th>\n",
              "      <th>femaleemployrate</th>\n",
              "      <th>polityscore</th>\n",
              "      <th>alcconsumption</th>\n",
              "      <th>lifeexpectancy</th>\n",
              "      <th>urbanrate</th>\n",
              "      <th>cluster</th>\n",
              "    </tr>\n",
              "  </thead>\n",
              "  <tbody>\n",
              "    <tr>\n",
              "      <th>0</th>\n",
              "      <td>159</td>\n",
              "      <td>-0.393486</td>\n",
              "      <td>-0.044591</td>\n",
              "      <td>0.386877</td>\n",
              "      <td>0.017127</td>\n",
              "      <td>1.843020</td>\n",
              "      <td>-0.016099</td>\n",
              "      <td>0.790241</td>\n",
              "      <td>0</td>\n",
              "    </tr>\n",
              "    <tr>\n",
              "      <th>1</th>\n",
              "      <td>196</td>\n",
              "      <td>-0.146720</td>\n",
              "      <td>-1.591112</td>\n",
              "      <td>-1.778529</td>\n",
              "      <td>0.498818</td>\n",
              "      <td>-0.744736</td>\n",
              "      <td>0.505990</td>\n",
              "      <td>0.605211</td>\n",
              "      <td>3</td>\n",
              "    </tr>\n",
              "    <tr>\n",
              "      <th>2</th>\n",
              "      <td>70</td>\n",
              "      <td>-0.654365</td>\n",
              "      <td>0.564351</td>\n",
              "      <td>1.086052</td>\n",
              "      <td>0.659382</td>\n",
              "      <td>-0.727105</td>\n",
              "      <td>-0.481382</td>\n",
              "      <td>-0.224759</td>\n",
              "      <td>2</td>\n",
              "    </tr>\n",
              "    <tr>\n",
              "      <th>3</th>\n",
              "      <td>29</td>\n",
              "      <td>-0.679157</td>\n",
              "      <td>2.313852</td>\n",
              "      <td>2.389369</td>\n",
              "      <td>0.338255</td>\n",
              "      <td>0.554040</td>\n",
              "      <td>-1.880471</td>\n",
              "      <td>-1.986999</td>\n",
              "      <td>2</td>\n",
              "    </tr>\n",
              "    <tr>\n",
              "      <th>4</th>\n",
              "      <td>53</td>\n",
              "      <td>-0.278924</td>\n",
              "      <td>-0.634202</td>\n",
              "      <td>-0.515941</td>\n",
              "      <td>0.659382</td>\n",
              "      <td>-0.106122</td>\n",
              "      <td>0.446957</td>\n",
              "      <td>0.620333</td>\n",
              "      <td>0</td>\n",
              "    </tr>\n",
              "    <tr>\n",
              "      <th>...</th>\n",
              "      <td>...</td>\n",
              "      <td>...</td>\n",
              "      <td>...</td>\n",
              "      <td>...</td>\n",
              "      <td>...</td>\n",
              "      <td>...</td>\n",
              "      <td>...</td>\n",
              "      <td>...</td>\n",
              "      <td>...</td>\n",
              "    </tr>\n",
              "    <tr>\n",
              "      <th>95</th>\n",
              "      <td>135</td>\n",
              "      <td>-0.663595</td>\n",
              "      <td>0.245381</td>\n",
              "      <td>0.441182</td>\n",
              "      <td>0.338255</td>\n",
              "      <td>-0.862272</td>\n",
              "      <td>-0.018934</td>\n",
              "      <td>-1.682765</td>\n",
              "      <td>2</td>\n",
              "    </tr>\n",
              "    <tr>\n",
              "      <th>96</th>\n",
              "      <td>79</td>\n",
              "      <td>-0.674475</td>\n",
              "      <td>0.641677</td>\n",
              "      <td>0.122141</td>\n",
              "      <td>0.338255</td>\n",
              "      <td>-0.572349</td>\n",
              "      <td>-2.111239</td>\n",
              "      <td>-1.122336</td>\n",
              "      <td>2</td>\n",
              "    </tr>\n",
              "    <tr>\n",
              "      <th>97</th>\n",
              "      <td>179</td>\n",
              "      <td>0.882197</td>\n",
              "      <td>-0.653534</td>\n",
              "      <td>-0.434484</td>\n",
              "      <td>0.980510</td>\n",
              "      <td>0.981088</td>\n",
              "      <td>1.257835</td>\n",
              "      <td>0.980609</td>\n",
              "      <td>1</td>\n",
              "    </tr>\n",
              "    <tr>\n",
              "      <th>98</th>\n",
              "      <td>149</td>\n",
              "      <td>-0.615169</td>\n",
              "      <td>1.076636</td>\n",
              "      <td>1.411881</td>\n",
              "      <td>0.017127</td>\n",
              "      <td>-0.623282</td>\n",
              "      <td>-0.626890</td>\n",
              "      <td>-1.891814</td>\n",
              "      <td>2</td>\n",
              "    </tr>\n",
              "    <tr>\n",
              "      <th>99</th>\n",
              "      <td>113</td>\n",
              "      <td>-0.464904</td>\n",
              "      <td>-2.354706</td>\n",
              "      <td>-1.445912</td>\n",
              "      <td>0.819946</td>\n",
              "      <td>0.414955</td>\n",
              "      <td>0.593883</td>\n",
              "      <td>0.526039</td>\n",
              "      <td>0</td>\n",
              "    </tr>\n",
              "  </tbody>\n",
              "</table>\n",
              "<p>100 rows × 9 columns</p>\n",
              "</div>"
            ],
            "text/plain": [
              "    index  incomeperperson  employrate  ...  lifeexpectancy  urbanrate  cluster\n",
              "0     159        -0.393486   -0.044591  ...       -0.016099   0.790241        0\n",
              "1     196        -0.146720   -1.591112  ...        0.505990   0.605211        3\n",
              "2      70        -0.654365    0.564351  ...       -0.481382  -0.224759        2\n",
              "3      29        -0.679157    2.313852  ...       -1.880471  -1.986999        2\n",
              "4      53        -0.278924   -0.634202  ...        0.446957   0.620333        0\n",
              "..    ...              ...         ...  ...             ...        ...      ...\n",
              "95    135        -0.663595    0.245381  ...       -0.018934  -1.682765        2\n",
              "96     79        -0.674475    0.641677  ...       -2.111239  -1.122336        2\n",
              "97    179         0.882197   -0.653534  ...        1.257835   0.980609        1\n",
              "98    149        -0.615169    1.076636  ...       -0.626890  -1.891814        2\n",
              "99    113        -0.464904   -2.354706  ...        0.593883   0.526039        0\n",
              "\n",
              "[100 rows x 9 columns]"
            ]
          },
          "metadata": {
            "tags": []
          },
          "execution_count": 54
        }
      ]
    },
    {
      "cell_type": "code",
      "metadata": {
        "id": "p02yxqir_LbH",
        "outputId": "9e3f280c-e0b4-4e17-927a-c3d5aab1cccb",
        "colab": {
          "base_uri": "https://localhost:8080/"
        }
      },
      "source": [
        "merged_train.cluster.value_counts()"
      ],
      "execution_count": 55,
      "outputs": [
        {
          "output_type": "execute_result",
          "data": {
            "text/plain": [
              "0    39\n",
              "2    35\n",
              "1    18\n",
              "3    13\n",
              "Name: cluster, dtype: int64"
            ]
          },
          "metadata": {
            "tags": []
          },
          "execution_count": 55
        }
      ]
    },
    {
      "cell_type": "code",
      "metadata": {
        "id": "_dqVL9u9_Of5",
        "outputId": "d1cdd23b-ed96-4721-e314-1835ae39ed78",
        "colab": {
          "base_uri": "https://localhost:8080/",
          "height": 207
        }
      },
      "source": [
        "clustergrp = merged_train.groupby('cluster').mean()\n",
        "print (\"Clustering variable means by cluster\")\n",
        "clustergrp"
      ],
      "execution_count": 56,
      "outputs": [
        {
          "output_type": "stream",
          "text": [
            "Clustering variable means by cluster\n"
          ],
          "name": "stdout"
        },
        {
          "output_type": "execute_result",
          "data": {
            "text/html": [
              "<div>\n",
              "<style scoped>\n",
              "    .dataframe tbody tr th:only-of-type {\n",
              "        vertical-align: middle;\n",
              "    }\n",
              "\n",
              "    .dataframe tbody tr th {\n",
              "        vertical-align: top;\n",
              "    }\n",
              "\n",
              "    .dataframe thead th {\n",
              "        text-align: right;\n",
              "    }\n",
              "</style>\n",
              "<table border=\"1\" class=\"dataframe\">\n",
              "  <thead>\n",
              "    <tr style=\"text-align: right;\">\n",
              "      <th></th>\n",
              "      <th>index</th>\n",
              "      <th>incomeperperson</th>\n",
              "      <th>employrate</th>\n",
              "      <th>femaleemployrate</th>\n",
              "      <th>polityscore</th>\n",
              "      <th>alcconsumption</th>\n",
              "      <th>lifeexpectancy</th>\n",
              "      <th>urbanrate</th>\n",
              "    </tr>\n",
              "    <tr>\n",
              "      <th>cluster</th>\n",
              "      <th></th>\n",
              "      <th></th>\n",
              "      <th></th>\n",
              "      <th></th>\n",
              "      <th></th>\n",
              "      <th></th>\n",
              "      <th></th>\n",
              "      <th></th>\n",
              "    </tr>\n",
              "  </thead>\n",
              "  <tbody>\n",
              "    <tr>\n",
              "      <th>0</th>\n",
              "      <td>107.512821</td>\n",
              "      <td>-0.284648</td>\n",
              "      <td>-0.424778</td>\n",
              "      <td>-0.200033</td>\n",
              "      <td>0.531755</td>\n",
              "      <td>0.614616</td>\n",
              "      <td>0.230201</td>\n",
              "      <td>0.164805</td>\n",
              "    </tr>\n",
              "    <tr>\n",
              "      <th>1</th>\n",
              "      <td>93.500000</td>\n",
              "      <td>1.846611</td>\n",
              "      <td>-0.196021</td>\n",
              "      <td>0.101022</td>\n",
              "      <td>0.811026</td>\n",
              "      <td>0.678541</td>\n",
              "      <td>1.195696</td>\n",
              "      <td>1.078462</td>\n",
              "    </tr>\n",
              "    <tr>\n",
              "      <th>2</th>\n",
              "      <td>100.657143</td>\n",
              "      <td>-0.628227</td>\n",
              "      <td>0.855152</td>\n",
              "      <td>0.873487</td>\n",
              "      <td>-0.583841</td>\n",
              "      <td>-0.506473</td>\n",
              "      <td>-1.034933</td>\n",
              "      <td>-0.896385</td>\n",
              "    </tr>\n",
              "    <tr>\n",
              "      <th>3</th>\n",
              "      <td>117.461538</td>\n",
              "      <td>-0.154556</td>\n",
              "      <td>-1.117490</td>\n",
              "      <td>-1.645378</td>\n",
              "      <td>-1.069767</td>\n",
              "      <td>-1.082728</td>\n",
              "      <td>0.439557</td>\n",
              "      <td>0.508658</td>\n",
              "    </tr>\n",
              "  </tbody>\n",
              "</table>\n",
              "</div>"
            ],
            "text/plain": [
              "              index  incomeperperson  ...  lifeexpectancy  urbanrate\n",
              "cluster                               ...                           \n",
              "0        107.512821        -0.284648  ...        0.230201   0.164805\n",
              "1         93.500000         1.846611  ...        1.195696   1.078462\n",
              "2        100.657143        -0.628227  ...       -1.034933  -0.896385\n",
              "3        117.461538        -0.154556  ...        0.439557   0.508658\n",
              "\n",
              "[4 rows x 8 columns]"
            ]
          },
          "metadata": {
            "tags": []
          },
          "execution_count": 56
        }
      ]
    },
    {
      "cell_type": "code",
      "metadata": {
        "id": "3iFdPbdE_XG4"
      },
      "source": [
        "internetuserate_train, internetuserate_test = train_test_split(internetuserate_data, test_size=.3, random_state=123)\n",
        "internetuserate_train1=pd.DataFrame(internetuserate_train)\n",
        "internetuserate_train1.reset_index(level=0, inplace=True)\n",
        "merged_train_all=pd.merge(internetuserate_train1, merged_train, on='index')\n",
        "sub5 = merged_train_all[['internetuserate', 'cluster']].dropna()"
      ],
      "execution_count": 59,
      "outputs": []
    },
    {
      "cell_type": "code",
      "metadata": {
        "id": "mfxzzJIB_RUd"
      },
      "source": [
        "internetuserate_data = data_clean['internetuserate']"
      ],
      "execution_count": 57,
      "outputs": []
    },
    {
      "cell_type": "code",
      "metadata": {
        "id": "RdvquqaJ_UyH",
        "outputId": "e6b5d786-a104-4801-ff94-eaf9e0b797a9",
        "colab": {
          "base_uri": "https://localhost:8080/",
          "height": 427
        }
      },
      "source": [
        "\n",
        "internetuserate_mod = smf.ols(formula='internetuserate ~ C(cluster)', data=sub5).fit()\n",
        "internetuserate_mod.summary()"
      ],
      "execution_count": 60,
      "outputs": [
        {
          "output_type": "execute_result",
          "data": {
            "text/html": [
              "<table class=\"simpletable\">\n",
              "<caption>OLS Regression Results</caption>\n",
              "<tr>\n",
              "  <th>Dep. Variable:</th>     <td>internetuserate</td> <th>  R-squared:         </th> <td>   0.679</td>\n",
              "</tr>\n",
              "<tr>\n",
              "  <th>Model:</th>                   <td>OLS</td>       <th>  Adj. R-squared:    </th> <td>   0.669</td>\n",
              "</tr>\n",
              "<tr>\n",
              "  <th>Method:</th>             <td>Least Squares</td>  <th>  F-statistic:       </th> <td>   71.17</td>\n",
              "</tr>\n",
              "<tr>\n",
              "  <th>Date:</th>             <td>Fri, 13 Nov 2020</td> <th>  Prob (F-statistic):</th> <td>8.18e-25</td>\n",
              "</tr>\n",
              "<tr>\n",
              "  <th>Time:</th>                 <td>14:23:44</td>     <th>  Log-Likelihood:    </th> <td> -436.84</td>\n",
              "</tr>\n",
              "<tr>\n",
              "  <th>No. Observations:</th>      <td>   105</td>      <th>  AIC:               </th> <td>   881.7</td>\n",
              "</tr>\n",
              "<tr>\n",
              "  <th>Df Residuals:</th>          <td>   101</td>      <th>  BIC:               </th> <td>   892.3</td>\n",
              "</tr>\n",
              "<tr>\n",
              "  <th>Df Model:</th>              <td>     3</td>      <th>                     </th>     <td> </td>   \n",
              "</tr>\n",
              "<tr>\n",
              "  <th>Covariance Type:</th>      <td>nonrobust</td>    <th>                     </th>     <td> </td>   \n",
              "</tr>\n",
              "</table>\n",
              "<table class=\"simpletable\">\n",
              "<tr>\n",
              "         <td></td>            <th>coef</th>     <th>std err</th>      <th>t</th>      <th>P>|t|</th>  <th>[0.025</th>    <th>0.975]</th>  \n",
              "</tr>\n",
              "<tr>\n",
              "  <th>Intercept</th>       <td>   35.7208</td> <td>    2.532</td> <td>   14.106</td> <td> 0.000</td> <td>   30.697</td> <td>   40.744</td>\n",
              "</tr>\n",
              "<tr>\n",
              "  <th>C(cluster)[T.1]</th> <td>   39.4860</td> <td>    4.506</td> <td>    8.763</td> <td> 0.000</td> <td>   30.547</td> <td>   48.425</td>\n",
              "</tr>\n",
              "<tr>\n",
              "  <th>C(cluster)[T.2]</th> <td>  -27.0808</td> <td>    3.682</td> <td>   -7.355</td> <td> 0.000</td> <td>  -34.385</td> <td>  -19.777</td>\n",
              "</tr>\n",
              "<tr>\n",
              "  <th>C(cluster)[T.3]</th> <td>   -7.4657</td> <td>    5.064</td> <td>   -1.474</td> <td> 0.144</td> <td>  -17.512</td> <td>    2.581</td>\n",
              "</tr>\n",
              "</table>\n",
              "<table class=\"simpletable\">\n",
              "<tr>\n",
              "  <th>Omnibus:</th>       <td> 5.290</td> <th>  Durbin-Watson:     </th> <td>   1.727</td>\n",
              "</tr>\n",
              "<tr>\n",
              "  <th>Prob(Omnibus):</th> <td> 0.071</td> <th>  Jarque-Bera (JB):  </th> <td>   4.908</td>\n",
              "</tr>\n",
              "<tr>\n",
              "  <th>Skew:</th>          <td> 0.387</td> <th>  Prob(JB):          </th> <td>  0.0859</td>\n",
              "</tr>\n",
              "<tr>\n",
              "  <th>Kurtosis:</th>      <td> 3.722</td> <th>  Cond. No.          </th> <td>    4.31</td>\n",
              "</tr>\n",
              "</table><br/><br/>Warnings:<br/>[1] Standard Errors assume that the covariance matrix of the errors is correctly specified."
            ],
            "text/plain": [
              "<class 'statsmodels.iolib.summary.Summary'>\n",
              "\"\"\"\n",
              "                            OLS Regression Results                            \n",
              "==============================================================================\n",
              "Dep. Variable:        internetuserate   R-squared:                       0.679\n",
              "Model:                            OLS   Adj. R-squared:                  0.669\n",
              "Method:                 Least Squares   F-statistic:                     71.17\n",
              "Date:                Fri, 13 Nov 2020   Prob (F-statistic):           8.18e-25\n",
              "Time:                        14:23:44   Log-Likelihood:                -436.84\n",
              "No. Observations:                 105   AIC:                             881.7\n",
              "Df Residuals:                     101   BIC:                             892.3\n",
              "Df Model:                           3                                         \n",
              "Covariance Type:            nonrobust                                         \n",
              "===================================================================================\n",
              "                      coef    std err          t      P>|t|      [0.025      0.975]\n",
              "-----------------------------------------------------------------------------------\n",
              "Intercept          35.7208      2.532     14.106      0.000      30.697      40.744\n",
              "C(cluster)[T.1]    39.4860      4.506      8.763      0.000      30.547      48.425\n",
              "C(cluster)[T.2]   -27.0808      3.682     -7.355      0.000     -34.385     -19.777\n",
              "C(cluster)[T.3]    -7.4657      5.064     -1.474      0.144     -17.512       2.581\n",
              "==============================================================================\n",
              "Omnibus:                        5.290   Durbin-Watson:                   1.727\n",
              "Prob(Omnibus):                  0.071   Jarque-Bera (JB):                4.908\n",
              "Skew:                           0.387   Prob(JB):                       0.0859\n",
              "Kurtosis:                       3.722   Cond. No.                         4.31\n",
              "==============================================================================\n",
              "\n",
              "Warnings:\n",
              "[1] Standard Errors assume that the covariance matrix of the errors is correctly specified.\n",
              "\"\"\""
            ]
          },
          "metadata": {
            "tags": []
          },
          "execution_count": 60
        }
      ]
    }
  ]
}