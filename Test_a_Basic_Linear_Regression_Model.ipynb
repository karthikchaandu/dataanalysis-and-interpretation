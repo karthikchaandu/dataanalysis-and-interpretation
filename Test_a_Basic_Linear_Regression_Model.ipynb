{
  "nbformat": 4,
  "nbformat_minor": 0,
  "metadata": {
    "colab": {
      "name": "Test a Basic Linear Regression Model.ipynb",
      "provenance": []
    },
    "kernelspec": {
      "name": "python3",
      "display_name": "Python 3"
    }
  },
  "cells": [
    {
      "cell_type": "code",
      "metadata": {
        "id": "SDUe9x6wSZjp"
      },
      "source": [
        "import pandas as pd\n",
        "import seaborn as sns\n",
        "import matplotlib.pyplot as plt\n",
        "import statsmodels.formula.api as smf\n",
        "\n",
        "data = pd.read_csv('/content/gapminder.csv', low_memory=False)"
      ],
      "execution_count": 56,
      "outputs": []
    },
    {
      "cell_type": "code",
      "metadata": {
        "id": "dTCLG_KPSeDj"
      },
      "source": [
        "data['internetuserate'] = pd.to_numeric(data['internetuserate'], errors='coerce')\n",
        "data['incomeperperson'] = pd.to_numeric(data['incomeperperson'], errors='coerce')"
      ],
      "execution_count": 57,
      "outputs": []
    },
    {
      "cell_type": "code",
      "metadata": {
        "id": "MPhyHxX2SguH",
        "outputId": "3e965533-5227-45f8-b175-cfaccce2a05c",
        "colab": {
          "base_uri": "https://localhost:8080/"
        }
      },
      "source": [
        "data_centered = data.copy()\n",
        "data_centered['incomeperperson'] = data_centered['incomeperperson'].subtract(data_centered['incomeperperson'].mean())\n",
        "print ('Mean of', data_centered[['incomeperperson']].mean())"
      ],
      "execution_count": 58,
      "outputs": [
        {
          "output_type": "stream",
          "text": [
            "Mean of incomeperperson   -1.148835e-13\n",
            "dtype: float64\n"
          ],
          "name": "stdout"
        }
      ]
    },
    {
      "cell_type": "code",
      "metadata": {
        "id": "4VuYOCfcSjr3",
        "outputId": "53358c30-3ef7-4e18-cc2e-a7295d02d931",
        "colab": {
          "base_uri": "https://localhost:8080/",
          "height": 484
        }
      },
      "source": [
        "scat1 = sns.regplot(x=\"incomeperperson\", y=\"internetuserate\", scatter=True, data=data_centered)\n",
        "plt.xlabel('Income Per Person')\n",
        "plt.ylabel('Internet Use Rate')\n",
        "plt.title ('Scatterplot for the Association Between Income Per Person and Internet Use Rate')\n",
        "sns.plt.show()"
      ],
      "execution_count": 59,
      "outputs": [
        {
          "output_type": "error",
          "ename": "AttributeError",
          "evalue": "ignored",
          "traceback": [
            "\u001b[0;31m---------------------------------------------------------------------------\u001b[0m",
            "\u001b[0;31mAttributeError\u001b[0m                            Traceback (most recent call last)",
            "\u001b[0;32m<ipython-input-59-59e0307d9860>\u001b[0m in \u001b[0;36m<module>\u001b[0;34m()\u001b[0m\n\u001b[1;32m      3\u001b[0m \u001b[0mplt\u001b[0m\u001b[0;34m.\u001b[0m\u001b[0mylabel\u001b[0m\u001b[0;34m(\u001b[0m\u001b[0;34m'Internet Use Rate'\u001b[0m\u001b[0;34m)\u001b[0m\u001b[0;34m\u001b[0m\u001b[0;34m\u001b[0m\u001b[0m\n\u001b[1;32m      4\u001b[0m \u001b[0mplt\u001b[0m\u001b[0;34m.\u001b[0m\u001b[0mtitle\u001b[0m \u001b[0;34m(\u001b[0m\u001b[0;34m'Scatterplot for the Association Between Income Per Person and Internet Use Rate'\u001b[0m\u001b[0;34m)\u001b[0m\u001b[0;34m\u001b[0m\u001b[0;34m\u001b[0m\u001b[0m\n\u001b[0;32m----> 5\u001b[0;31m \u001b[0msns\u001b[0m\u001b[0;34m.\u001b[0m\u001b[0mplt\u001b[0m\u001b[0;34m.\u001b[0m\u001b[0mshow\u001b[0m\u001b[0;34m(\u001b[0m\u001b[0;34m)\u001b[0m\u001b[0;34m\u001b[0m\u001b[0;34m\u001b[0m\u001b[0m\n\u001b[0m",
            "\u001b[0;31mAttributeError\u001b[0m: module 'seaborn' has no attribute 'plt'"
          ]
        },
        {
          "output_type": "display_data",
          "data": {
            "image/png": "[encoded data removed]",
            "text/plain": [
              "<Figure size 432x288 with 1 Axes>"
            ]
          },
          "metadata": {
            "tags": [],
            "needs_background": "light"
          }
        }
      ]
    },
    {
      "cell_type": "code",
      "metadata": {
        "id": "kzCfEsy0SnSE",
        "outputId": "c549496a-207a-4cf9-cdf7-937e1f7e55e9",
        "colab": {
          "base_uri": "https://localhost:8080/",
          "height": 424
        }
      },
      "source": [
        "reg1 = smf.ols('internetuserate ~ incomeperperson', data=data_centered).fit()\n",
        "reg1.summary()"
      ],
      "execution_count": 60,
      "outputs": [
        {
          "output_type": "execute_result",
          "data": {
            "text/html": [
              "<table class=\"simpletable\">\n",
              "<caption>OLS Regression Results</caption>\n",
              "<tr>\n",
              "  <th>Dep. Variable:</th>     <td>internetuserate</td> <th>  R-squared:         </th> <td>   0.564</td>\n",
              "</tr>\n",
              "<tr>\n",
              "  <th>Model:</th>                   <td>OLS</td>       <th>  Adj. R-squared:    </th> <td>   0.562</td>\n",
              "</tr>\n",
              "<tr>\n",
              "  <th>Method:</th>             <td>Least Squares</td>  <th>  F-statistic:       </th> <td>   234.1</td>\n",
              "</tr>\n",
              "<tr>\n",
              "  <th>Date:</th>             <td>Thu, 12 Nov 2020</td> <th>  Prob (F-statistic):</th> <td>1.89e-34</td>\n",
              "</tr>\n",
              "<tr>\n",
              "  <th>Time:</th>                 <td>16:29:39</td>     <th>  Log-Likelihood:    </th> <td> -792.90</td>\n",
              "</tr>\n",
              "<tr>\n",
              "  <th>No. Observations:</th>      <td>   183</td>      <th>  AIC:               </th> <td>   1590.</td>\n",
              "</tr>\n",
              "<tr>\n",
              "  <th>Df Residuals:</th>          <td>   181</td>      <th>  BIC:               </th> <td>   1596.</td>\n",
              "</tr>\n",
              "<tr>\n",
              "  <th>Df Model:</th>              <td>     1</td>      <th>                     </th>     <td> </td>   \n",
              "</tr>\n",
              "<tr>\n",
              "  <th>Covariance Type:</th>      <td>nonrobust</td>    <th>                     </th>     <td> </td>   \n",
              "</tr>\n",
              "</table>\n",
              "<table class=\"simpletable\">\n",
              "<tr>\n",
              "         <td></td>            <th>coef</th>     <th>std err</th>      <th>t</th>      <th>P>|t|</th>  <th>[0.025</th>    <th>0.975]</th>  \n",
              "</tr>\n",
              "<tr>\n",
              "  <th>Intercept</th>       <td>   36.0622</td> <td>    1.371</td> <td>   26.308</td> <td> 0.000</td> <td>   33.357</td> <td>   38.767</td>\n",
              "</tr>\n",
              "<tr>\n",
              "  <th>incomeperperson</th> <td>    0.0017</td> <td>    0.000</td> <td>   15.299</td> <td> 0.000</td> <td>    0.001</td> <td>    0.002</td>\n",
              "</tr>\n",
              "</table>\n",
              "<table class=\"simpletable\">\n",
              "<tr>\n",
              "  <th>Omnibus:</th>       <td> 4.027</td> <th>  Durbin-Watson:     </th> <td>   2.087</td>\n",
              "</tr>\n",
              "<tr>\n",
              "  <th>Prob(Omnibus):</th> <td> 0.133</td> <th>  Jarque-Bera (JB):  </th> <td>   5.081</td>\n",
              "</tr>\n",
              "<tr>\n",
              "  <th>Skew:</th>          <td> 0.012</td> <th>  Prob(JB):          </th> <td>  0.0788</td>\n",
              "</tr>\n",
              "<tr>\n",
              "  <th>Kurtosis:</th>      <td> 3.816</td> <th>  Cond. No.          </th> <td>1.25e+04</td>\n",
              "</tr>\n",
              "</table><br/><br/>Warnings:<br/>[1] Standard Errors assume that the covariance matrix of the errors is correctly specified.<br/>[2] The condition number is large, 1.25e+04. This might indicate that there are<br/>strong multicollinearity or other numerical problems."
            ],
            "text/plain": [
              "<class 'statsmodels.iolib.summary.Summary'>\n",
              "\"\"\"\n",
              "                            OLS Regression Results                            \n",
              "==============================================================================\n",
              "Dep. Variable:        internetuserate   R-squared:                       0.564\n",
              "Model:                            OLS   Adj. R-squared:                  0.562\n",
              "Method:                 Least Squares   F-statistic:                     234.1\n",
              "Date:                Thu, 12 Nov 2020   Prob (F-statistic):           1.89e-34\n",
              "Time:                        16:29:39   Log-Likelihood:                -792.90\n",
              "No. Observations:                 183   AIC:                             1590.\n",
              "Df Residuals:                     181   BIC:                             1596.\n",
              "Df Model:                           1                                         \n",
              "Covariance Type:            nonrobust                                         \n",
              "===================================================================================\n",
              "                      coef    std err          t      P>|t|      [0.025      0.975]\n",
              "-----------------------------------------------------------------------------------\n",
              "Intercept          36.0622      1.371     26.308      0.000      33.357      38.767\n",
              "incomeperperson     0.0017      0.000     15.299      0.000       0.001       0.002\n",
              "==============================================================================\n",
              "Omnibus:                        4.027   Durbin-Watson:                   2.087\n",
              "Prob(Omnibus):                  0.133   Jarque-Bera (JB):                5.081\n",
              "Skew:                           0.012   Prob(JB):                       0.0788\n",
              "Kurtosis:                       3.816   Cond. No.                     1.25e+04\n",
              "==============================================================================\n",
              "\n",
              "Warnings:\n",
              "[1] Standard Errors assume that the covariance matrix of the errors is correctly specified.\n",
              "[2] The condition number is large, 1.25e+04. This might indicate that there are\n",
              "strong multicollinearity or other numerical problems.\n",
              "\"\"\""
            ]
          },
          "metadata": {
            "tags": []
          },
          "execution_count": 60
        }
      ]
    }
  ]
}