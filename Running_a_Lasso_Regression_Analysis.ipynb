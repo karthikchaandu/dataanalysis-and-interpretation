{
  "nbformat": 4,
  "nbformat_minor": 0,
  "metadata": {
    "colab": {
      "name": "Running a Lasso Regression Analysis.ipynb",
      "provenance": []
    },
    "kernelspec": {
      "name": "python3",
      "display_name": "Python 3"
    }
  },
  "cells": [
    {
      "cell_type": "code",
      "metadata": {
        "id": "Vy4ilNf49Il1"
      },
      "source": [
        "import pandas as pd\n",
        "import numpy as np\n",
        "import matplotlib.pyplot as plt\n",
        "from sklearn.model_selection import train_test_split\n",
        "from sklearn.linear_model import LassoLarsCV\n",
        "\n",
        "data = pd.read_csv('/content/gapminder.csv', low_memory=False)\n",
        " \n",
        "data['internetuserate'] = pd.to_numeric(data['internetuserate'], errors='coerce')\n",
        "data['incomeperperson'] = pd.to_numeric(data['incomeperperson'], errors='coerce')\n",
        "data['employrate'] = pd.to_numeric(data['employrate'], errors='coerce')\n",
        "data['femaleemployrate'] = pd.to_numeric(data['femaleemployrate'], errors='coerce')\n",
        "data['polityscore'] = pd.to_numeric(data['polityscore'], errors='coerce')\n",
        "data['alcconsumption'] = pd.to_numeric(data['alcconsumption'], errors='coerce')\n",
        "data['lifeexpectancy'] = pd.to_numeric(data['lifeexpectancy'], errors='coerce')\n",
        "data['oilperperson'] = pd.to_numeric(data['oilperperson'], errors='coerce')\n",
        "data['relectricperperson'] = pd.to_numeric(data['relectricperperson'], errors='coerce')\n",
        "data['urbanrate'] = pd.to_numeric(data['urbanrate'], errors='coerce')\n",
        "\n",
        "sub1 = data.copy()\n",
        "data_clean = sub1.dropna()"
      ],
      "execution_count": 29,
      "outputs": []
    },
    {
      "cell_type": "code",
      "metadata": {
        "id": "rz0DWPcI9T9v"
      },
      "source": [
        "predvar = data_clean[['incomeperperson','employrate','femaleemployrate','polityscore',\n",
        "                      'alcconsumption', 'lifeexpectancy', 'oilperperson',\n",
        "                      'relectricperperson', 'urbanrate']]\n",
        "target = data_clean.internetuserate"
      ],
      "execution_count": 30,
      "outputs": []
    },
    {
      "cell_type": "code",
      "metadata": {
        "id": "8h__CXrz9WWR"
      },
      "source": [
        "predictors=predvar.copy()\n",
        "from sklearn import preprocessing\n",
        "predictors['incomeperperson']=preprocessing.scale(predictors['incomeperperson'].astype('float64'))\n",
        "predictors['employrate']=preprocessing.scale(predictors['employrate'].astype('float64'))\n",
        "predictors['femaleemployrate']=preprocessing.scale(predictors['femaleemployrate'].astype('float64'))\n",
        "predictors['polityscore']=preprocessing.scale(predictors['polityscore'].astype('float64'))\n",
        "predictors['alcconsumption']=preprocessing.scale(predictors['alcconsumption'].astype('float64'))\n",
        "predictors['lifeexpectancy']=preprocessing.scale(predictors['lifeexpectancy'].astype('float64'))\n",
        "predictors['oilperperson']=preprocessing.scale(predictors['oilperperson'].astype('float64'))\n",
        "predictors['relectricperperson']=preprocessing.scale(predictors['relectricperperson'].astype('float64'))\n",
        "predictors['urbanrate']=preprocessing.scale(predictors['urbanrate'].astype('float64'))"
      ],
      "execution_count": 31,
      "outputs": []
    },
    {
      "cell_type": "code",
      "metadata": {
        "id": "xIXE1ane9ZfC"
      },
      "source": [
        "pred_train, pred_test, tar_train, tar_test = train_test_split(predictors, target, test_size=.3, random_state=123)"
      ],
      "execution_count": 32,
      "outputs": []
    },
    {
      "cell_type": "code",
      "metadata": {
        "id": "R_PZRxFk9b9B"
      },
      "source": [
        "model=LassoLarsCV(cv=10, precompute=False).fit(pred_train,tar_train)"
      ],
      "execution_count": 33,
      "outputs": []
    },
    {
      "cell_type": "code",
      "metadata": {
        "id": "hzvY8zhb9eQX",
        "outputId": "ab711905-378e-4314-dbab-5f7e2e455cdd",
        "colab": {
          "base_uri": "https://localhost:8080/"
        }
      },
      "source": [
        "dict(zip(predictors.columns, model.coef_))"
      ],
      "execution_count": 34,
      "outputs": [
        {
          "output_type": "execute_result",
          "data": {
            "text/plain": [
              "{'alcconsumption': 6.221071813537989,\n",
              " 'employrate': 0.0,\n",
              " 'femaleemployrate': 0.0,\n",
              " 'incomeperperson': 10.730391069082595,\n",
              " 'lifeexpectancy': 7.941516118335266,\n",
              " 'oilperperson': 0.0,\n",
              " 'polityscore': 0.33239766721690117,\n",
              " 'relectricperperson': 3.363356602681382,\n",
              " 'urbanrate': 1.1025066405302557}"
            ]
          },
          "metadata": {
            "tags": []
          },
          "execution_count": 34
        }
      ]
    },
    {
      "cell_type": "code",
      "metadata": {
        "id": "dir4ulzC9hNc",
        "outputId": "d5cfd267-ba6c-420f-d1ef-9d2f21e64938",
        "colab": {
          "base_uri": "https://localhost:8080/",
          "height": 295
        }
      },
      "source": [
        "m_log_alphas = -np.log10(model.alphas_)\n",
        "ax = plt.gca()\n",
        "plt.plot(m_log_alphas, model.coef_path_.T)\n",
        "plt.axvline(-np.log10(model.alpha_), linestyle='--', color='k',\n",
        "label='alpha CV')\n",
        "plt.ylabel('Regression Coefficients')\n",
        "plt.xlabel('-log(alpha)')\n",
        "plt.title('Regression Coefficients Progression for Lasso Paths')\n",
        "plt.show()"
      ],
      "execution_count": 35,
      "outputs": [
        {
          "output_type": "display_data",
          "data": {
            "image/png": "[encoded data removed]",
            "text/plain": [
              "<Figure size 432x288 with 1 Axes>"
            ]
          },
          "metadata": {
            "tags": [],
            "needs_background": "light"
          }
        }
      ]
    },
    {
      "cell_type": "code",
      "metadata": {
        "id": "r1KYw4gW9nXW",
        "outputId": "6d90fc4c-ba9d-42df-bda0-bc2e2ed5a47f",
        "colab": {
          "base_uri": "https://localhost:8080/",
          "height": 297
        }
      },
      "source": [
        "m_log_alphascv = -np.log10(model.cv_alphas_)\n",
        "plt.figure()\n",
        "plt.plot(m_log_alphascv, model.cv_mse_path_, ':')\n",
        "plt.plot(m_log_alphascv, model.cv_mse_path_.mean(axis=-1), 'k',\n",
        "label='Average across the folds', linewidth=2)\n",
        "plt.axvline(-np.log10(model.alpha_), linestyle='--', color='k',\n",
        "label='alpha CV')\n",
        "plt.legend()\n",
        "plt.xlabel('-log(alpha)')\n",
        "plt.ylabel('Mean squared error')\n",
        "plt.title('Mean squared error on each fold')\n",
        "plt.show()"
      ],
      "execution_count": 36,
      "outputs": [
        {
          "output_type": "stream",
          "text": [
            "/usr/local/lib/python3.6/dist-packages/ipykernel_launcher.py:1: RuntimeWarning: divide by zero encountered in log10\n",
            "  \"\"\"Entry point for launching an IPython kernel.\n"
          ],
          "name": "stderr"
        },
        {
          "output_type": "error",
          "ename": "AttributeError",
          "evalue": "ignored",
          "traceback": [
            "\u001b[0;31m---------------------------------------------------------------------------\u001b[0m",
            "\u001b[0;31mAttributeError\u001b[0m                            Traceback (most recent call last)",
            "\u001b[0;32m<ipython-input-36-8c0b188e75de>\u001b[0m in \u001b[0;36m<module>\u001b[0;34m()\u001b[0m\n\u001b[1;32m      1\u001b[0m \u001b[0mm_log_alphascv\u001b[0m \u001b[0;34m=\u001b[0m \u001b[0;34m-\u001b[0m\u001b[0mnp\u001b[0m\u001b[0;34m.\u001b[0m\u001b[0mlog10\u001b[0m\u001b[0;34m(\u001b[0m\u001b[0mmodel\u001b[0m\u001b[0;34m.\u001b[0m\u001b[0mcv_alphas_\u001b[0m\u001b[0;34m)\u001b[0m\u001b[0;34m\u001b[0m\u001b[0;34m\u001b[0m\u001b[0m\n\u001b[1;32m      2\u001b[0m \u001b[0mplt\u001b[0m\u001b[0;34m.\u001b[0m\u001b[0mfigure\u001b[0m\u001b[0;34m(\u001b[0m\u001b[0;34m)\u001b[0m\u001b[0;34m\u001b[0m\u001b[0;34m\u001b[0m\u001b[0m\n\u001b[0;32m----> 3\u001b[0;31m \u001b[0mplt\u001b[0m\u001b[0;34m.\u001b[0m\u001b[0mplot\u001b[0m\u001b[0;34m(\u001b[0m\u001b[0mm_log_alphascv\u001b[0m\u001b[0;34m,\u001b[0m \u001b[0mmodel\u001b[0m\u001b[0;34m.\u001b[0m\u001b[0mcv_mse_path_\u001b[0m\u001b[0;34m,\u001b[0m \u001b[0;34m':'\u001b[0m\u001b[0;34m)\u001b[0m\u001b[0;34m\u001b[0m\u001b[0;34m\u001b[0m\u001b[0m\n\u001b[0m\u001b[1;32m      4\u001b[0m plt.plot(m_log_alphascv, model.cv_mse_path_.mean(axis=-1), 'k',\n\u001b[1;32m      5\u001b[0m label='Average across the folds', linewidth=2)\n",
            "\u001b[0;31mAttributeError\u001b[0m: 'LassoLarsCV' object has no attribute 'cv_mse_path_'"
          ]
        },
        {
          "output_type": "display_data",
          "data": {
            "text/plain": [
              "<Figure size 432x288 with 0 Axes>"
            ]
          },
          "metadata": {
            "tags": []
          }
        }
      ]
    },
    {
      "cell_type": "code",
      "metadata": {
        "id": "AS5y60OM9vLG",
        "outputId": "aaef0c9e-305f-4677-b25a-42401ffe63b3",
        "colab": {
          "base_uri": "https://localhost:8080/"
        }
      },
      "source": [
        "from sklearn.metrics import mean_squared_error\n",
        "train_error = mean_squared_error(tar_train, model.predict(pred_train))\n",
        "test_error = mean_squared_error(tar_test, model.predict(pred_test))\n",
        "print ('training data MSE')\n",
        "print(train_error)\n",
        "print ('')\n",
        "print ('test data MSE')\n",
        "print(test_error)"
      ],
      "execution_count": 37,
      "outputs": [
        {
          "output_type": "stream",
          "text": [
            "training data MSE\n",
            "100.10393601519011\n",
            "\n",
            "test data MSE\n",
            "120.56897024142876\n"
          ],
          "name": "stdout"
        }
      ]
    },
    {
      "cell_type": "code",
      "metadata": {
        "id": "4EWkdyd691Ka",
        "outputId": "68782395-99dd-4282-e410-395f2024db3f",
        "colab": {
          "base_uri": "https://localhost:8080/"
        }
      },
      "source": [
        "rsquared_train=model.score(pred_train,tar_train)\n",
        "rsquared_test=model.score(pred_test,tar_test)\n",
        "print ('training data R-square')\n",
        "print(rsquared_train)\n",
        "print ('')\n",
        "print ('test data R-square')\n",
        "print(rsquared_test)"
      ],
      "execution_count": 38,
      "outputs": [
        {
          "output_type": "stream",
          "text": [
            "training data R-square\n",
            "0.8613441423617307\n",
            "\n",
            "test data R-square\n",
            "0.7769425808132838\n"
          ],
          "name": "stdout"
        }
      ]
    }
  ]
}