{
  "nbformat": 4,
  "nbformat_minor": 0,
  "metadata": {
    "colab": {
      "name": "Test a Logistic Regression Model.ipynb",
      "provenance": []
    },
    "kernelspec": {
      "name": "python3",
      "display_name": "Python 3"
    }
  },
  "cells": [
    {
      "cell_type": "code",
      "metadata": {
        "id": "ftUSY8HAU9QR"
      },
      "source": [
        "import pandas as pd\n",
        "import numpy as np\n",
        "import statsmodels.formula.api as smf\n",
        "import scipy.stats\n",
        "\n",
        "data = pd.read_csv('/content/gapminder.csv', low_memory=False)\n",
        " \n",
        "data['internetuserate'] = pd.to_numeric(data['internetuserate'], errors='coerce')\n",
        "data['incomeperperson'] = pd.to_numeric(data['incomeperperson'], errors='coerce')\n",
        "data['employrate'] = pd.to_numeric(data['employrate'], errors='coerce')"
      ],
      "execution_count": 73,
      "outputs": []
    },
    {
      "cell_type": "code",
      "metadata": {
        "id": "j6hqVbXkVGy9"
      },
      "source": [
        "binarydata = data.copy()\n",
        "\n",
        "def internetgrp (row):\n",
        "    if row['internetuserate'] < data['internetuserate'].median():\n",
        "        return 0\n",
        "    else:\n",
        "        return 1\n",
        "\n",
        "binarydata['internetuserate'] = binarydata.apply (lambda row: internetgrp (row),axis=1)"
      ],
      "execution_count": 74,
      "outputs": []
    },
    {
      "cell_type": "code",
      "metadata": {
        "id": "34kQNiPeVJGb",
        "outputId": "361ddf9d-687d-4331-d38c-67003a4d0a30",
        "colab": {
          "base_uri": "https://localhost:8080/",
          "height": 352
        }
      },
      "source": [
        "lreg1 = smf.logit(formula = 'internetuserate ~ incomeperperson', data = binarydata).fit()\n",
        "lreg1.summary()"
      ],
      "execution_count": 75,
      "outputs": [
        {
          "output_type": "stream",
          "text": [
            "Optimization terminated successfully.\n",
            "         Current function value: 0.357431\n",
            "         Iterations 9\n"
          ],
          "name": "stdout"
        },
        {
          "output_type": "execute_result",
          "data": {
            "text/html": [
              "<table class=\"simpletable\">\n",
              "<caption>Logit Regression Results</caption>\n",
              "<tr>\n",
              "  <th>Dep. Variable:</th>    <td>internetuserate</td> <th>  No. Observations:  </th>  <td>   190</td>  \n",
              "</tr>\n",
              "<tr>\n",
              "  <th>Model:</th>                 <td>Logit</td>      <th>  Df Residuals:      </th>  <td>   188</td>  \n",
              "</tr>\n",
              "<tr>\n",
              "  <th>Method:</th>                 <td>MLE</td>       <th>  Df Model:          </th>  <td>     1</td>  \n",
              "</tr>\n",
              "<tr>\n",
              "  <th>Date:</th>            <td>Thu, 12 Nov 2020</td> <th>  Pseudo R-squ.:     </th>  <td>0.4843</td>  \n",
              "</tr>\n",
              "<tr>\n",
              "  <th>Time:</th>                <td>16:40:42</td>     <th>  Log-Likelihood:    </th> <td> -67.912</td> \n",
              "</tr>\n",
              "<tr>\n",
              "  <th>converged:</th>             <td>True</td>       <th>  LL-Null:           </th> <td> -131.69</td> \n",
              "</tr>\n",
              "<tr>\n",
              "  <th>Covariance Type:</th>     <td>nonrobust</td>    <th>  LLR p-value:       </th> <td>1.407e-29</td>\n",
              "</tr>\n",
              "</table>\n",
              "<table class=\"simpletable\">\n",
              "<tr>\n",
              "         <td></td>            <th>coef</th>     <th>std err</th>      <th>z</th>      <th>P>|z|</th>  <th>[0.025</th>    <th>0.975]</th>  \n",
              "</tr>\n",
              "<tr>\n",
              "  <th>Intercept</th>       <td>   -2.2530</td> <td>    0.345</td> <td>   -6.525</td> <td> 0.000</td> <td>   -2.930</td> <td>   -1.576</td>\n",
              "</tr>\n",
              "<tr>\n",
              "  <th>incomeperperson</th> <td>    0.0006</td> <td>    0.000</td> <td>    5.817</td> <td> 0.000</td> <td>    0.000</td> <td>    0.001</td>\n",
              "</tr>\n",
              "</table><br/><br/>Possibly complete quasi-separation: A fraction 0.17 of observations can be<br/>perfectly predicted. This might indicate that there is complete<br/>quasi-separation. In this case some parameters will not be identified."
            ],
            "text/plain": [
              "<class 'statsmodels.iolib.summary.Summary'>\n",
              "\"\"\"\n",
              "                           Logit Regression Results                           \n",
              "==============================================================================\n",
              "Dep. Variable:        internetuserate   No. Observations:                  190\n",
              "Model:                          Logit   Df Residuals:                      188\n",
              "Method:                           MLE   Df Model:                            1\n",
              "Date:                Thu, 12 Nov 2020   Pseudo R-squ.:                  0.4843\n",
              "Time:                        16:40:42   Log-Likelihood:                -67.912\n",
              "converged:                       True   LL-Null:                       -131.69\n",
              "Covariance Type:            nonrobust   LLR p-value:                 1.407e-29\n",
              "===================================================================================\n",
              "                      coef    std err          z      P>|z|      [0.025      0.975]\n",
              "-----------------------------------------------------------------------------------\n",
              "Intercept          -2.2530      0.345     -6.525      0.000      -2.930      -1.576\n",
              "incomeperperson     0.0006      0.000      5.817      0.000       0.000       0.001\n",
              "===================================================================================\n",
              "\n",
              "Possibly complete quasi-separation: A fraction 0.17 of observations can be\n",
              "perfectly predicted. This might indicate that there is complete\n",
              "quasi-separation. In this case some parameters will not be identified.\n",
              "\"\"\""
            ]
          },
          "metadata": {
            "tags": []
          },
          "execution_count": 75
        }
      ]
    },
    {
      "cell_type": "code",
      "metadata": {
        "id": "7Nuuv5--VMAV",
        "outputId": "3eee19ac-12ad-4ab0-e672-5d3dc2755dc3",
        "colab": {
          "base_uri": "https://localhost:8080/"
        }
      },
      "source": [
        "np.exp(lreg1.params)"
      ],
      "execution_count": 76,
      "outputs": [
        {
          "output_type": "execute_result",
          "data": {
            "text/plain": [
              "Intercept          0.105085\n",
              "incomeperperson    1.000608\n",
              "dtype: float64"
            ]
          },
          "metadata": {
            "tags": []
          },
          "execution_count": 76
        }
      ]
    },
    {
      "cell_type": "code",
      "metadata": {
        "id": "VRInZz7YVO_I",
        "outputId": "8c281b2c-beaf-477b-8b4a-acdf12265793",
        "colab": {
          "base_uri": "https://localhost:8080/",
          "height": 103
        }
      },
      "source": [
        "params = lreg1.params\n",
        "conf = lreg1.conf_int()\n",
        "conf['OR'] = params\n",
        "conf.columns = ['Lower CI', 'Upper CI', 'OR']\n",
        "np.exp(conf)"
      ],
      "execution_count": 77,
      "outputs": [
        {
          "output_type": "execute_result",
          "data": {
            "text/html": [
              "<div>\n",
              "<style scoped>\n",
              "    .dataframe tbody tr th:only-of-type {\n",
              "        vertical-align: middle;\n",
              "    }\n",
              "\n",
              "    .dataframe tbody tr th {\n",
              "        vertical-align: top;\n",
              "    }\n",
              "\n",
              "    .dataframe thead th {\n",
              "        text-align: right;\n",
              "    }\n",
              "</style>\n",
              "<table border=\"1\" class=\"dataframe\">\n",
              "  <thead>\n",
              "    <tr style=\"text-align: right;\">\n",
              "      <th></th>\n",
              "      <th>Lower CI</th>\n",
              "      <th>Upper CI</th>\n",
              "      <th>OR</th>\n",
              "    </tr>\n",
              "  </thead>\n",
              "  <tbody>\n",
              "    <tr>\n",
              "      <th>Intercept</th>\n",
              "      <td>0.053414</td>\n",
              "      <td>0.206742</td>\n",
              "      <td>0.105085</td>\n",
              "    </tr>\n",
              "    <tr>\n",
              "      <th>incomeperperson</th>\n",
              "      <td>1.000403</td>\n",
              "      <td>1.000813</td>\n",
              "      <td>1.000608</td>\n",
              "    </tr>\n",
              "  </tbody>\n",
              "</table>\n",
              "</div>"
            ],
            "text/plain": [
              "                 Lower CI  Upper CI        OR\n",
              "Intercept        0.053414  0.206742  0.105085\n",
              "incomeperperson  1.000403  1.000813  1.000608"
            ]
          },
          "metadata": {
            "tags": []
          },
          "execution_count": 77
        }
      ]
    },
    {
      "cell_type": "code",
      "metadata": {
        "id": "umMScdzIVSV0",
        "outputId": "53654c3b-55aa-48a0-cf02-efd18dda2c2b",
        "colab": {
          "base_uri": "https://localhost:8080/"
        }
      },
      "source": [
        "lreg2 = smf.logit(formula = 'internetuserate ~ incomeperperson + employrate', data = binarydata).fit()\n",
        "print (lreg2.summary())"
      ],
      "execution_count": 78,
      "outputs": [
        {
          "output_type": "stream",
          "text": [
            "Optimization terminated successfully.\n",
            "         Current function value: 0.345366\n",
            "         Iterations 9\n",
            "                           Logit Regression Results                           \n",
            "==============================================================================\n",
            "Dep. Variable:        internetuserate   No. Observations:                  166\n",
            "Model:                          Logit   Df Residuals:                      163\n",
            "Method:                           MLE   Df Model:                            2\n",
            "Date:                Thu, 12 Nov 2020   Pseudo R-squ.:                  0.5009\n",
            "Time:                        16:41:20   Log-Likelihood:                -57.331\n",
            "converged:                       True   LL-Null:                       -114.87\n",
            "Covariance Type:            nonrobust   LLR p-value:                 1.026e-25\n",
            "===================================================================================\n",
            "                      coef    std err          z      P>|z|      [0.025      0.975]\n",
            "-----------------------------------------------------------------------------------\n",
            "Intercept           1.1446      1.426      0.803      0.422      -1.650       3.939\n",
            "incomeperperson     0.0005      0.000      4.985      0.000       0.000       0.001\n",
            "employrate         -0.0579      0.025     -2.340      0.019      -0.106      -0.009\n",
            "===================================================================================\n",
            "\n",
            "Possibly complete quasi-separation: A fraction 0.14 of observations can be\n",
            "perfectly predicted. This might indicate that there is complete\n",
            "quasi-separation. In this case some parameters will not be identified.\n"
          ],
          "name": "stdout"
        }
      ]
    }
  ]
}