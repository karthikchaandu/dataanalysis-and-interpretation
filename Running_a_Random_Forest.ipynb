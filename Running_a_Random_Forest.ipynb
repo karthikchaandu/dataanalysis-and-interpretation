{
  "nbformat": 4,
  "nbformat_minor": 0,
  "metadata": {
    "colab": {
      "name": " Running a Random Forest.ipynb",
      "provenance": []
    },
    "kernelspec": {
      "name": "python3",
      "display_name": "Python 3"
    }
  },
  "cells": [
    {
      "cell_type": "code",
      "metadata": {
        "id": "02tG1J1w603z"
      },
      "source": [
        "import pandas as pd\n",
        "import numpy as np\n",
        "import matplotlib.pyplot as plt\n",
        "from sklearn.model_selection import train_test_split\n",
        "import sklearn.metrics\n",
        "from sklearn.ensemble import ExtraTreesClassifier\n",
        " \n",
        "data = pd.read_csv('/content/gapminder.csv', low_memory=False)\n",
        " \n",
        "data['internetuserate'] = pd.to_numeric(data['internetuserate'], errors='coerce')\n",
        "data['incomeperperson'] = pd.to_numeric(data['incomeperperson'], errors='coerce')\n",
        "data['employrate'] = pd.to_numeric(data['employrate'], errors='coerce')\n",
        "data['femaleemployrate'] = pd.to_numeric(data['femaleemployrate'], errors='coerce')\n",
        "data['polityscore'] = pd.to_numeric(data['polityscore'], errors='coerce')\n",
        " \n",
        "binarydata = data.copy()\n",
        " \n",
        "# convert response variable to binary\n",
        " \n",
        "def internetgrp (row):\n",
        "    if row['internetuserate'] < data['internetuserate'].median():\n",
        "        return 0\n",
        "    else:\n",
        "        return 1\n",
        "\n",
        "binarydata['internetuserate'] = binarydata.apply (lambda row: internetgrp (row),axis=1)\n",
        " \n",
        "# Clean the dataset\n",
        "binarydata_clean = binarydata.dropna()"
      ],
      "execution_count": 12,
      "outputs": []
    },
    {
      "cell_type": "code",
      "metadata": {
        "id": "FGxCxKwf7T6l"
      },
      "source": [
        "predictors = binarydata_clean[['incomeperperson','employrate','femaleemployrate','polityscore']]\n",
        "targets = binarydata_clean.internetuserate\n",
        "pred_train, pred_test, tar_train, tar_test = train_test_split(predictors, targets, test_size=.4)\n",
        "\n",
        "from sklearn.ensemble import RandomForestClassifier\n",
        "\n",
        "classifier_r=RandomForestClassifier(n_estimators=25)\n",
        "classifier_r=classifier_r.fit(pred_train,tar_train)\n",
        "predictions_r=classifier_r.predict(pred_test)"
      ],
      "execution_count": 13,
      "outputs": []
    },
    {
      "cell_type": "code",
      "metadata": {
        "id": "LoWYgmyv7YEN",
        "outputId": "1f122e18-0056-4cca-edee-9911bedfd673",
        "colab": {
          "base_uri": "https://localhost:8080/"
        }
      },
      "source": [
        "sklearn.metrics.confusion_matrix(tar_test,predictions_r)"
      ],
      "execution_count": 14,
      "outputs": [
        {
          "output_type": "execute_result",
          "data": {
            "text/plain": [
              "array([[31,  5],\n",
              "       [ 5, 20]])"
            ]
          },
          "metadata": {
            "tags": []
          },
          "execution_count": 14
        }
      ]
    },
    {
      "cell_type": "code",
      "metadata": {
        "id": "j2ug-9UE7bBE",
        "outputId": "046e12a8-6271-4300-adc0-dba1c9c4b916",
        "colab": {
          "base_uri": "https://localhost:8080/"
        }
      },
      "source": [
        "sklearn.metrics.accuracy_score(tar_test, predictions_r)"
      ],
      "execution_count": 15,
      "outputs": [
        {
          "output_type": "execute_result",
          "data": {
            "text/plain": [
              "0.8360655737704918"
            ]
          },
          "metadata": {
            "tags": []
          },
          "execution_count": 15
        }
      ]
    },
    {
      "cell_type": "code",
      "metadata": {
        "id": "AauMnntM7fXV",
        "outputId": "66356e31-ebcd-4ce3-d83d-8d57d8c014c3",
        "colab": {
          "base_uri": "https://localhost:8080/"
        }
      },
      "source": [
        "model_r = ExtraTreesClassifier()\n",
        "model_r.fit(pred_train,tar_train)"
      ],
      "execution_count": 16,
      "outputs": [
        {
          "output_type": "execute_result",
          "data": {
            "text/plain": [
              "ExtraTreesClassifier()"
            ]
          },
          "metadata": {
            "tags": []
          },
          "execution_count": 16
        }
      ]
    },
    {
      "cell_type": "code",
      "metadata": {
        "id": "QS9Qb2nO7h-h",
        "outputId": "43606aa8-aed8-4e80-f1a9-682c779128dc",
        "colab": {
          "base_uri": "https://localhost:8080/"
        }
      },
      "source": [
        "model_r.feature_importances_"
      ],
      "execution_count": 17,
      "outputs": [
        {
          "output_type": "execute_result",
          "data": {
            "text/plain": [
              "array([0.48268333, 0.16223994, 0.1481663 , 0.20691043])"
            ]
          },
          "metadata": {
            "tags": []
          },
          "execution_count": 17
        }
      ]
    },
    {
      "cell_type": "code",
      "metadata": {
        "id": "CCYfURRZ7kpw",
        "outputId": "79ad75a6-eab3-4c5c-cbbd-1a8fff49ae24",
        "colab": {
          "base_uri": "https://localhost:8080/",
          "height": 279
        }
      },
      "source": [
        "trees=range(50)\n",
        "accuracy=np.zeros(50)\n",
        " \n",
        "for idx in range(len(trees)):\n",
        "    classifier_r=RandomForestClassifier(n_estimators=idx + 1)\n",
        "    classifier_r=classifier_r.fit(pred_train,tar_train)\n",
        "    predictions_r=classifier_r.predict(pred_test)\n",
        "    accuracy[idx]=sklearn.metrics.accuracy_score(tar_test, predictions_r)\n",
        "\n",
        "plt.cla()\n",
        "plt.plot(trees, accuracy)\n",
        "plt.ylabel('Accuracy Score')\n",
        "plt.xlabel('Number of Trees')\n",
        "plt.show()\n"
      ],
      "execution_count": 18,
      "outputs": [
        {
          "output_type": "display_data",
          "data": {
            "image/png": "[encoded data removed]",
            "text/plain": [
              "<Figure size 432x288 with 1 Axes>"
            ]
          },
          "metadata": {
            "tags": [],
            "needs_background": "light"
          }
        }
      ]
    }
  ]
}