{
  "nbformat": 4,
  "nbformat_minor": 0,
  "metadata": {
    "colab": {
      "name": "running an analysys of variance.ipynb",
      "provenance": []
    },
    "kernelspec": {
      "name": "python3",
      "display_name": "Python 3"
    }
  },
  "cells": [
    {
      "cell_type": "code",
      "metadata": {
        "id": "yGe2I98hMYZR",
        "outputId": "be2659d3-adfc-4b78-afcf-39ea0602dc72",
        "colab": {
          "base_uri": "https://localhost:8080/"
        }
      },
      "source": [
        "import pandas as pd\n",
        "import statsmodels.formula.api as smf\n",
        "import statsmodels.stats.multicomp as multi\n",
        "\n",
        "data = pd.read_csv('/content/gapminder.csv', low_memory=False)"
      ],
      "execution_count": 13,
      "outputs": [
        {
          "output_type": "stream",
          "text": [
            "/usr/local/lib/python3.6/dist-packages/statsmodels/tools/_testing.py:19: FutureWarning: pandas.util.testing is deprecated. Use the functions in the public API at pandas.testing instead.\n",
            "  import pandas.util.testing as tm\n"
          ],
          "name": "stderr"
        }
      ]
    },
    {
      "cell_type": "code",
      "metadata": {
        "id": "g1uOywsmMgIJ"
      },
      "source": [
        "data['internetuserate'] = pd.to_numeric(data['internetuserate'], errors='coerce')\n",
        "data['polityscore'] = pd.to_numeric(data['polityscore'], errors='coerce')\n",
        "\n",
        "sub1 = data.copy()\n",
        "\n",
        "sub3 = sub1[['internetuserate', 'polityscore']].dropna()\n",
        "sub3['polityscore_binned'] = pd.cut(sub3.polityscore, 3, labels=['Low', 'Med', 'High'])"
      ],
      "execution_count": 14,
      "outputs": []
    },
    {
      "cell_type": "code",
      "metadata": {
        "id": "WFKK7ILpMikG",
        "outputId": "3cf9280e-9ae8-4d72-bc29-1387750aef51",
        "colab": {
          "base_uri": "https://localhost:8080/",
          "height": 409
        }
      },
      "source": [
        "model1 = smf.ols(formula='internetuserate ~ C(polityscore_binned)', data=sub3)\n",
        "results1 = model1.fit()\n",
        "results1.summary()"
      ],
      "execution_count": 15,
      "outputs": [
        {
          "output_type": "execute_result",
          "data": {
            "text/html": [
              "<table class=\"simpletable\">\n",
              "<caption>OLS Regression Results</caption>\n",
              "<tr>\n",
              "  <th>Dep. Variable:</th>     <td>internetuserate</td> <th>  R-squared:         </th> <td>   0.153</td>\n",
              "</tr>\n",
              "<tr>\n",
              "  <th>Model:</th>                   <td>OLS</td>       <th>  Adj. R-squared:    </th> <td>   0.141</td>\n",
              "</tr>\n",
              "<tr>\n",
              "  <th>Method:</th>             <td>Least Squares</td>  <th>  F-statistic:       </th> <td>   13.68</td>\n",
              "</tr>\n",
              "<tr>\n",
              "  <th>Date:</th>             <td>Thu, 12 Nov 2020</td> <th>  Prob (F-statistic):</th> <td>3.45e-06</td>\n",
              "</tr>\n",
              "<tr>\n",
              "  <th>Time:</th>                 <td>16:03:06</td>     <th>  Log-Likelihood:    </th> <td> -720.18</td>\n",
              "</tr>\n",
              "<tr>\n",
              "  <th>No. Observations:</th>      <td>   155</td>      <th>  AIC:               </th> <td>   1446.</td>\n",
              "</tr>\n",
              "<tr>\n",
              "  <th>Df Residuals:</th>          <td>   152</td>      <th>  BIC:               </th> <td>   1455.</td>\n",
              "</tr>\n",
              "<tr>\n",
              "  <th>Df Model:</th>              <td>     2</td>      <th>                     </th>     <td> </td>   \n",
              "</tr>\n",
              "<tr>\n",
              "  <th>Covariance Type:</th>      <td>nonrobust</td>    <th>                     </th>     <td> </td>   \n",
              "</tr>\n",
              "</table>\n",
              "<table class=\"simpletable\">\n",
              "<tr>\n",
              "                <td></td>                   <th>coef</th>     <th>std err</th>      <th>t</th>      <th>P>|t|</th>  <th>[0.025</th>    <th>0.975]</th>  \n",
              "</tr>\n",
              "<tr>\n",
              "  <th>Intercept</th>                     <td>   27.3843</td> <td>    4.812</td> <td>    5.691</td> <td> 0.000</td> <td>   17.878</td> <td>   36.891</td>\n",
              "</tr>\n",
              "<tr>\n",
              "  <th>C(polityscore_binned)[T.Med]</th>  <td>  -15.3636</td> <td>    6.805</td> <td>   -2.258</td> <td> 0.025</td> <td>  -28.807</td> <td>   -1.920</td>\n",
              "</tr>\n",
              "<tr>\n",
              "  <th>C(polityscore_binned)[T.High]</th> <td>   12.4031</td> <td>    5.450</td> <td>    2.276</td> <td> 0.024</td> <td>    1.636</td> <td>   23.170</td>\n",
              "</tr>\n",
              "</table>\n",
              "<table class=\"simpletable\">\n",
              "<tr>\n",
              "  <th>Omnibus:</th>       <td>11.048</td> <th>  Durbin-Watson:     </th> <td>   1.630</td>\n",
              "</tr>\n",
              "<tr>\n",
              "  <th>Prob(Omnibus):</th> <td> 0.004</td> <th>  Jarque-Bera (JB):  </th> <td>   7.673</td>\n",
              "</tr>\n",
              "<tr>\n",
              "  <th>Skew:</th>          <td> 0.416</td> <th>  Prob(JB):          </th> <td>  0.0216</td>\n",
              "</tr>\n",
              "<tr>\n",
              "  <th>Kurtosis:</th>      <td> 2.295</td> <th>  Cond. No.          </th> <td>    5.38</td>\n",
              "</tr>\n",
              "</table><br/><br/>Warnings:<br/>[1] Standard Errors assume that the covariance matrix of the errors is correctly specified."
            ],
            "text/plain": [
              "<class 'statsmodels.iolib.summary.Summary'>\n",
              "\"\"\"\n",
              "                            OLS Regression Results                            \n",
              "==============================================================================\n",
              "Dep. Variable:        internetuserate   R-squared:                       0.153\n",
              "Model:                            OLS   Adj. R-squared:                  0.141\n",
              "Method:                 Least Squares   F-statistic:                     13.68\n",
              "Date:                Thu, 12 Nov 2020   Prob (F-statistic):           3.45e-06\n",
              "Time:                        16:03:06   Log-Likelihood:                -720.18\n",
              "No. Observations:                 155   AIC:                             1446.\n",
              "Df Residuals:                     152   BIC:                             1455.\n",
              "Df Model:                           2                                         \n",
              "Covariance Type:            nonrobust                                         \n",
              "=================================================================================================\n",
              "                                    coef    std err          t      P>|t|      [0.025      0.975]\n",
              "-------------------------------------------------------------------------------------------------\n",
              "Intercept                        27.3843      4.812      5.691      0.000      17.878      36.891\n",
              "C(polityscore_binned)[T.Med]    -15.3636      6.805     -2.258      0.025     -28.807      -1.920\n",
              "C(polityscore_binned)[T.High]    12.4031      5.450      2.276      0.024       1.636      23.170\n",
              "==============================================================================\n",
              "Omnibus:                       11.048   Durbin-Watson:                   1.630\n",
              "Prob(Omnibus):                  0.004   Jarque-Bera (JB):                7.673\n",
              "Skew:                           0.416   Prob(JB):                       0.0216\n",
              "Kurtosis:                       2.295   Cond. No.                         5.38\n",
              "==============================================================================\n",
              "\n",
              "Warnings:\n",
              "[1] Standard Errors assume that the covariance matrix of the errors is correctly specified.\n",
              "\"\"\""
            ]
          },
          "metadata": {
            "tags": []
          },
          "execution_count": 15
        }
      ]
    },
    {
      "cell_type": "code",
      "metadata": {
        "id": "19aW0abiMmXJ",
        "outputId": "7924bbe7-3dad-459e-d8a6-7e6e63306c7e",
        "colab": {
          "base_uri": "https://localhost:8080/",
          "height": 160
        }
      },
      "source": [
        "m1= sub3.groupby('polityscore_binned').mean()\n",
        "m1"
      ],
      "execution_count": 16,
      "outputs": [
        {
          "output_type": "execute_result",
          "data": {
            "text/html": [
              "<div>\n",
              "<style scoped>\n",
              "    .dataframe tbody tr th:only-of-type {\n",
              "        vertical-align: middle;\n",
              "    }\n",
              "\n",
              "    .dataframe tbody tr th {\n",
              "        vertical-align: top;\n",
              "    }\n",
              "\n",
              "    .dataframe thead th {\n",
              "        text-align: right;\n",
              "    }\n",
              "</style>\n",
              "<table border=\"1\" class=\"dataframe\">\n",
              "  <thead>\n",
              "    <tr style=\"text-align: right;\">\n",
              "      <th></th>\n",
              "      <th>internetuserate</th>\n",
              "      <th>polityscore</th>\n",
              "    </tr>\n",
              "    <tr>\n",
              "      <th>polityscore_binned</th>\n",
              "      <th></th>\n",
              "      <th></th>\n",
              "    </tr>\n",
              "  </thead>\n",
              "  <tbody>\n",
              "    <tr>\n",
              "      <th>Low</th>\n",
              "      <td>27.384319</td>\n",
              "      <td>-6.750000</td>\n",
              "    </tr>\n",
              "    <tr>\n",
              "      <th>Med</th>\n",
              "      <td>12.020730</td>\n",
              "      <td>-0.607143</td>\n",
              "    </tr>\n",
              "    <tr>\n",
              "      <th>High</th>\n",
              "      <td>39.787427</td>\n",
              "      <td>8.101010</td>\n",
              "    </tr>\n",
              "  </tbody>\n",
              "</table>\n",
              "</div>"
            ],
            "text/plain": [
              "                    internetuserate  polityscore\n",
              "polityscore_binned                              \n",
              "Low                       27.384319    -6.750000\n",
              "Med                       12.020730    -0.607143\n",
              "High                      39.787427     8.101010"
            ]
          },
          "metadata": {
            "tags": []
          },
          "execution_count": 16
        }
      ]
    },
    {
      "cell_type": "code",
      "metadata": {
        "id": "LK4VxK44MpF0",
        "outputId": "dfa5f54f-ea98-4439-c74f-932f9098283d",
        "colab": {
          "base_uri": "https://localhost:8080/",
          "height": 160
        }
      },
      "source": [
        "sd1 = sub3.groupby('polityscore_binned').std()\n",
        "sd1"
      ],
      "execution_count": 17,
      "outputs": [
        {
          "output_type": "execute_result",
          "data": {
            "text/html": [
              "<div>\n",
              "<style scoped>\n",
              "    .dataframe tbody tr th:only-of-type {\n",
              "        vertical-align: middle;\n",
              "    }\n",
              "\n",
              "    .dataframe tbody tr th {\n",
              "        vertical-align: top;\n",
              "    }\n",
              "\n",
              "    .dataframe thead th {\n",
              "        text-align: right;\n",
              "    }\n",
              "</style>\n",
              "<table border=\"1\" class=\"dataframe\">\n",
              "  <thead>\n",
              "    <tr style=\"text-align: right;\">\n",
              "      <th></th>\n",
              "      <th>internetuserate</th>\n",
              "      <th>polityscore</th>\n",
              "    </tr>\n",
              "    <tr>\n",
              "      <th>polityscore_binned</th>\n",
              "      <th></th>\n",
              "      <th></th>\n",
              "    </tr>\n",
              "  </thead>\n",
              "  <tbody>\n",
              "    <tr>\n",
              "      <th>Low</th>\n",
              "      <td>22.581908</td>\n",
              "      <td>1.776910</td>\n",
              "    </tr>\n",
              "    <tr>\n",
              "      <th>Med</th>\n",
              "      <td>15.349624</td>\n",
              "      <td>1.931019</td>\n",
              "    </tr>\n",
              "    <tr>\n",
              "      <th>High</th>\n",
              "      <td>28.284737</td>\n",
              "      <td>1.809809</td>\n",
              "    </tr>\n",
              "  </tbody>\n",
              "</table>\n",
              "</div>"
            ],
            "text/plain": [
              "                    internetuserate  polityscore\n",
              "polityscore_binned                              \n",
              "Low                       22.581908     1.776910\n",
              "Med                       15.349624     1.931019\n",
              "High                      28.284737     1.809809"
            ]
          },
          "metadata": {
            "tags": []
          },
          "execution_count": 17
        }
      ]
    }
  ]
}